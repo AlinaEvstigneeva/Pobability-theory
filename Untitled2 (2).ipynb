{
  "nbformat": 4,
  "nbformat_minor": 0,
  "metadata": {
    "colab": {
      "provenance": []
    },
    "kernelspec": {
      "name": "python3",
      "display_name": "Python 3"
    },
    "language_info": {
      "name": "python"
    }
  },
  "cells": [
    {
      "cell_type": "markdown",
      "source": [
        "Задача 1. Из колоды в 52 карты извлекаются случайным образом 4 карты. a) Найти вероятность того, что все карты – крести. б) Найти вероятность, что среди 4-х карт окажется хотя бы один туз.\n"
      ],
      "metadata": {
        "id": "QoHFpqKKSfo4"
      }
    },
    {
      "cell_type": "code",
      "execution_count": 13,
      "metadata": {
        "colab": {
          "base_uri": "https://localhost:8080/"
        },
        "id": "b_HdoymWRefA",
        "outputId": "d6468ade-686f-4e13-da22-03ee4df05382"
      },
      "outputs": [
        {
          "output_type": "stream",
          "name": "stdout",
          "text": [
            "Вероятность того, что все карты – крести = 0.0026\n"
          ]
        }
      ],
      "source": [
        "from math import factorial\n",
        "def combinations(n, k):\n",
        "  return factorial(n) / (factorial(n-k) * factorial(k))\n",
        "\n",
        "m = combinations(13, 4)\n",
        "n = combinations(52, 4)\n",
        "P = m/n\n",
        "print(f'Вероятность того, что все карты – крести = {P :.4f}')"
      ]
    },
    {
      "cell_type": "code",
      "source": [
        "m1 = combinations(4, 1) * combinations(48, 3)\n",
        "m2 = combinations(4, 2) * combinations(48, 2)\n",
        "m3 = combinations(4, 3) * combinations(48, 1)\n",
        "m4 = combinations(4, 4)\n",
        "n = combinations(52, 4)\n",
        "P1 = m1/n\n",
        "P2 = m2/n\n",
        "P3 = m3/n\n",
        "P4 = m4/n\n",
        "P_res = P1 + P2 + P3 + P4\n",
        "print(f'Вероятность, что среди 4-х карт окажется хотя бы один туз = {P_res :.2f}')"
      ],
      "metadata": {
        "colab": {
          "base_uri": "https://localhost:8080/"
        },
        "id": "DmSabsBWikPF",
        "outputId": "62bfe866-2fd1-4931-9e80-ed3860d0f474"
      },
      "execution_count": 15,
      "outputs": [
        {
          "output_type": "stream",
          "name": "stdout",
          "text": [
            "Вероятность, что среди 4-х карт окажется хотя бы один туз = 0.28\n"
          ]
        }
      ]
    },
    {
      "cell_type": "markdown",
      "source": [
        "Задача 2. На входной двери подъезда установлен кодовый замок, содержащий десять кнопок с цифрами от 0 до 9. Код содержит три цифры, которые нужно нажать одновременно. Какова вероятность того, что человек, не знающий код, откроет дверь с первой попытки?"
      ],
      "metadata": {
        "id": "sy01HzN8oq5C"
      }
    },
    {
      "cell_type": "code",
      "source": [
        "m = 1\n",
        "n = combinations(10, 3)\n",
        "P = m/n\n",
        "print(f'Вероятность того, что человек, не знающий код, откроет дверь с первой попытки = {P :.4f}')"
      ],
      "metadata": {
        "colab": {
          "base_uri": "https://localhost:8080/"
        },
        "id": "vrNyX1pjoxe6",
        "outputId": "6863fc5b-3b77-4c45-dfee-e57394ff389f"
      },
      "execution_count": 22,
      "outputs": [
        {
          "output_type": "stream",
          "name": "stdout",
          "text": [
            "Вероятность того, что человек, не знающий код, откроет дверь с первой попытки = 0.0083\n"
          ]
        }
      ]
    },
    {
      "cell_type": "markdown",
      "source": [
        "Задача 3. В ящике имеется 15 деталей, из которых 9 окрашены. Рабочий случайным образом извлекает 3 детали. Какова вероятность того, что все извлеченные детали окрашены?"
      ],
      "metadata": {
        "id": "vcACbnJOsmd_"
      }
    },
    {
      "cell_type": "code",
      "source": [
        "m = combinations(9, 3)\n",
        "n = combinations(15, 3)\n",
        "P = m/n\n",
        "print(f'Вероятность того, что все извлеченные детали окрашены = {P :.2f}')"
      ],
      "metadata": {
        "colab": {
          "base_uri": "https://localhost:8080/"
        },
        "id": "S0i_5l0AstDE",
        "outputId": "4d10cb0f-acdd-480c-96aa-9b832b85ff64"
      },
      "execution_count": 25,
      "outputs": [
        {
          "output_type": "stream",
          "name": "stdout",
          "text": [
            "Вероятность того, что все извлеченные детали окрашены = 0.18\n"
          ]
        }
      ]
    },
    {
      "cell_type": "markdown",
      "source": [
        "Задача 4. В лотерее 100 билетов. Из них 2 выигрышных. Какова вероятность того, что 2 приобретенных билета окажутся выигрышными?"
      ],
      "metadata": {
        "id": "96Z3OaiDuqkF"
      }
    },
    {
      "cell_type": "code",
      "source": [
        "m = combinations(2, 2)\n",
        "n = combinations(100, 2)\n",
        "P = m/n\n",
        "print(f'Вероятность того, что 2 приобретенных билета окажутся выигрышными = {P :.5f}')"
      ],
      "metadata": {
        "colab": {
          "base_uri": "https://localhost:8080/"
        },
        "id": "T35vLkGfup2j",
        "outputId": "13b4b6e0-45b6-4c5c-bb4f-7f068b44e5e0"
      },
      "execution_count": 26,
      "outputs": [
        {
          "output_type": "stream",
          "name": "stdout",
          "text": [
            "Вероятность того, что 2 приобретенных билета окажутся выигрышными = 0.00020\n"
          ]
        }
      ]
    }
  ]
}